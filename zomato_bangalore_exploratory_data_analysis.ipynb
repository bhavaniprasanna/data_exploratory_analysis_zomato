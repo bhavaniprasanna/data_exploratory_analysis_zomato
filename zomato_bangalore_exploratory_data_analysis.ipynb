{
 "cells": [
  {
   "cell_type": "markdown",
   "id": "a59b3dce",
   "metadata": {},
   "source": [
    "# Zomato Bangalore Restaurants Exploratory Data Analysis"
   ]
  },
  {
   "cell_type": "code",
   "execution_count": null,
   "id": "376c7d6d",
   "metadata": {},
   "outputs": [],
   "source": [
    "# pip install opendatasets --upgrade --quiet"
   ]
  },
  {
   "cell_type": "markdown",
   "id": "92305c0d",
   "metadata": {},
   "source": [
    "### step 1.download  the data"
   ]
  },
  {
   "cell_type": "code",
   "execution_count": null,
   "id": "9eb7a0b4",
   "metadata": {},
   "outputs": [],
   "source": [
    "# import opendatasets as od\n",
    "# download_url=\"https://www.kaggle.com/himanshupoddar/zomato-bangalore-restaurants\"\n",
    "# od.download(download_url)"
   ]
  },
  {
   "cell_type": "markdown",
   "id": "458f48ac",
   "metadata": {},
   "source": [
    "### step 2 Performing data preparation and cleaning using pandas and numpy\n",
    "#### 1. loading the file using pandas"
   ]
  },
  {
   "cell_type": "code",
   "execution_count": 67,
   "id": "3b86cbc0",
   "metadata": {},
   "outputs": [],
   "source": [
    "import pandas as pd\n",
    "import numpy as np\n",
    "from matplotlib import pyplot as plt"
   ]
  },
  {
   "cell_type": "code",
   "execution_count": 68,
   "id": "9f523a9a",
   "metadata": {},
   "outputs": [
    {
     "data": {
      "text/html": [
       "<div>\n",
       "<style scoped>\n",
       "    .dataframe tbody tr th:only-of-type {\n",
       "        vertical-align: middle;\n",
       "    }\n",
       "\n",
       "    .dataframe tbody tr th {\n",
       "        vertical-align: top;\n",
       "    }\n",
       "\n",
       "    .dataframe thead th {\n",
       "        text-align: right;\n",
       "    }\n",
       "</style>\n",
       "<table border=\"1\" class=\"dataframe\">\n",
       "  <thead>\n",
       "    <tr style=\"text-align: right;\">\n",
       "      <th></th>\n",
       "      <th>Name</th>\n",
       "      <th>Online_Order</th>\n",
       "      <th>Book_Table</th>\n",
       "      <th>Rate</th>\n",
       "      <th>Votes</th>\n",
       "      <th>Location</th>\n",
       "      <th>Restuarant_type</th>\n",
       "      <th>Dish_liked</th>\n",
       "      <th>Cuisines</th>\n",
       "      <th>approx_cost(for two people)</th>\n",
       "      <th>menu_item</th>\n",
       "      <th>Category</th>\n",
       "      <th>listed_in(city)</th>\n",
       "      <th>reviews_list</th>\n",
       "    </tr>\n",
       "  </thead>\n",
       "  <tbody>\n",
       "    <tr>\n",
       "      <th>0</th>\n",
       "      <td>Jalsa</td>\n",
       "      <td>Yes</td>\n",
       "      <td>Yes</td>\n",
       "      <td>4.1/5</td>\n",
       "      <td>775</td>\n",
       "      <td>Banashankari</td>\n",
       "      <td>Casual Dining</td>\n",
       "      <td>Pasta, Lunch Buffet, Masala Papad, Paneer Laja...</td>\n",
       "      <td>North Indian, Mughlai, Chinese</td>\n",
       "      <td>800</td>\n",
       "      <td>[]</td>\n",
       "      <td>Buffet</td>\n",
       "      <td>Banashankari</td>\n",
       "      <td>[('Rated 4.0', 'RATED\\n  A beautiful place to ...</td>\n",
       "    </tr>\n",
       "    <tr>\n",
       "      <th>1</th>\n",
       "      <td>Spice Elephant</td>\n",
       "      <td>Yes</td>\n",
       "      <td>No</td>\n",
       "      <td>4.1/5</td>\n",
       "      <td>787</td>\n",
       "      <td>Banashankari</td>\n",
       "      <td>Casual Dining</td>\n",
       "      <td>Momos, Lunch Buffet, Chocolate Nirvana, Thai G...</td>\n",
       "      <td>Chinese, North Indian, Thai</td>\n",
       "      <td>800</td>\n",
       "      <td>[]</td>\n",
       "      <td>Buffet</td>\n",
       "      <td>Banashankari</td>\n",
       "      <td>[('Rated 4.0', 'RATED\\n  Had been here for din...</td>\n",
       "    </tr>\n",
       "    <tr>\n",
       "      <th>2</th>\n",
       "      <td>San Churro Cafe</td>\n",
       "      <td>Yes</td>\n",
       "      <td>No</td>\n",
       "      <td>3.8/5</td>\n",
       "      <td>918</td>\n",
       "      <td>Banashankari</td>\n",
       "      <td>Cafe, Casual Dining</td>\n",
       "      <td>Churros, Cannelloni, Minestrone Soup, Hot Choc...</td>\n",
       "      <td>Cafe, Mexican, Italian</td>\n",
       "      <td>800</td>\n",
       "      <td>[]</td>\n",
       "      <td>Buffet</td>\n",
       "      <td>Banashankari</td>\n",
       "      <td>[('Rated 3.0', \"RATED\\n  Ambience is not that ...</td>\n",
       "    </tr>\n",
       "    <tr>\n",
       "      <th>3</th>\n",
       "      <td>Addhuri Udupi Bhojana</td>\n",
       "      <td>No</td>\n",
       "      <td>No</td>\n",
       "      <td>3.7/5</td>\n",
       "      <td>88</td>\n",
       "      <td>Banashankari</td>\n",
       "      <td>Quick Bites</td>\n",
       "      <td>Masala Dosa</td>\n",
       "      <td>South Indian, North Indian</td>\n",
       "      <td>300</td>\n",
       "      <td>[]</td>\n",
       "      <td>Buffet</td>\n",
       "      <td>Banashankari</td>\n",
       "      <td>[('Rated 4.0', \"RATED\\n  Great food and proper...</td>\n",
       "    </tr>\n",
       "    <tr>\n",
       "      <th>4</th>\n",
       "      <td>Grand Village</td>\n",
       "      <td>No</td>\n",
       "      <td>No</td>\n",
       "      <td>3.8/5</td>\n",
       "      <td>166</td>\n",
       "      <td>Basavanagudi</td>\n",
       "      <td>Casual Dining</td>\n",
       "      <td>Panipuri, Gol Gappe</td>\n",
       "      <td>North Indian, Rajasthani</td>\n",
       "      <td>600</td>\n",
       "      <td>[]</td>\n",
       "      <td>Buffet</td>\n",
       "      <td>Banashankari</td>\n",
       "      <td>[('Rated 4.0', 'RATED\\n  Very good restaurant ...</td>\n",
       "    </tr>\n",
       "    <tr>\n",
       "      <th>...</th>\n",
       "      <td>...</td>\n",
       "      <td>...</td>\n",
       "      <td>...</td>\n",
       "      <td>...</td>\n",
       "      <td>...</td>\n",
       "      <td>...</td>\n",
       "      <td>...</td>\n",
       "      <td>...</td>\n",
       "      <td>...</td>\n",
       "      <td>...</td>\n",
       "      <td>...</td>\n",
       "      <td>...</td>\n",
       "      <td>...</td>\n",
       "      <td>...</td>\n",
       "    </tr>\n",
       "    <tr>\n",
       "      <th>51690</th>\n",
       "      <td>Best Brews - Four Points by Sheraton Bengaluru...</td>\n",
       "      <td>No</td>\n",
       "      <td>No</td>\n",
       "      <td>3.6 /5</td>\n",
       "      <td>27</td>\n",
       "      <td>Whitefield</td>\n",
       "      <td>Bar</td>\n",
       "      <td>NAN</td>\n",
       "      <td>Continental</td>\n",
       "      <td>1500</td>\n",
       "      <td>[]</td>\n",
       "      <td>Pubs and bars</td>\n",
       "      <td>Whitefield</td>\n",
       "      <td>[('Rated 5.0', \"RATED\\n  Food and service are ...</td>\n",
       "    </tr>\n",
       "    <tr>\n",
       "      <th>51691</th>\n",
       "      <td>Vinod Bar And Restaurant</td>\n",
       "      <td>No</td>\n",
       "      <td>No</td>\n",
       "      <td>NAN</td>\n",
       "      <td>0</td>\n",
       "      <td>Whitefield</td>\n",
       "      <td>Bar</td>\n",
       "      <td>NAN</td>\n",
       "      <td>Finger Food</td>\n",
       "      <td>600</td>\n",
       "      <td>[]</td>\n",
       "      <td>Pubs and bars</td>\n",
       "      <td>Whitefield</td>\n",
       "      <td>[]</td>\n",
       "    </tr>\n",
       "    <tr>\n",
       "      <th>51692</th>\n",
       "      <td>Plunge - Sheraton Grand Bengaluru Whitefield H...</td>\n",
       "      <td>No</td>\n",
       "      <td>No</td>\n",
       "      <td>NAN</td>\n",
       "      <td>0</td>\n",
       "      <td>Whitefield</td>\n",
       "      <td>Bar</td>\n",
       "      <td>NAN</td>\n",
       "      <td>Finger Food</td>\n",
       "      <td>2000</td>\n",
       "      <td>[]</td>\n",
       "      <td>Pubs and bars</td>\n",
       "      <td>Whitefield</td>\n",
       "      <td>[]</td>\n",
       "    </tr>\n",
       "    <tr>\n",
       "      <th>51693</th>\n",
       "      <td>Chime - Sheraton Grand Bengaluru Whitefield Ho...</td>\n",
       "      <td>No</td>\n",
       "      <td>Yes</td>\n",
       "      <td>4.3 /5</td>\n",
       "      <td>236</td>\n",
       "      <td>ITPL Main Road, Whitefield</td>\n",
       "      <td>Bar</td>\n",
       "      <td>Cocktails, Pizza, Buttermilk</td>\n",
       "      <td>Finger Food</td>\n",
       "      <td>2500</td>\n",
       "      <td>[]</td>\n",
       "      <td>Pubs and bars</td>\n",
       "      <td>Whitefield</td>\n",
       "      <td>[('Rated 4.0', 'RATED\\n  Nice and friendly pla...</td>\n",
       "    </tr>\n",
       "    <tr>\n",
       "      <th>51694</th>\n",
       "      <td>The Nest - The Den Bengaluru</td>\n",
       "      <td>No</td>\n",
       "      <td>No</td>\n",
       "      <td>3.4 /5</td>\n",
       "      <td>13</td>\n",
       "      <td>ITPL Main Road, Whitefield</td>\n",
       "      <td>Bar, Casual Dining</td>\n",
       "      <td>NAN</td>\n",
       "      <td>Finger Food, North Indian, Continental</td>\n",
       "      <td>1500</td>\n",
       "      <td>[]</td>\n",
       "      <td>Pubs and bars</td>\n",
       "      <td>Whitefield</td>\n",
       "      <td>[('Rated 5.0', 'RATED\\n  Great ambience , look...</td>\n",
       "    </tr>\n",
       "  </tbody>\n",
       "</table>\n",
       "<p>51695 rows × 14 columns</p>\n",
       "</div>"
      ],
      "text/plain": [
       "                                                    Name Online_Order  \\\n",
       "0                                                  Jalsa          Yes   \n",
       "1                                         Spice Elephant          Yes   \n",
       "2                                        San Churro Cafe          Yes   \n",
       "3                                  Addhuri Udupi Bhojana           No   \n",
       "4                                          Grand Village           No   \n",
       "...                                                  ...          ...   \n",
       "51690  Best Brews - Four Points by Sheraton Bengaluru...           No   \n",
       "51691                           Vinod Bar And Restaurant           No   \n",
       "51692  Plunge - Sheraton Grand Bengaluru Whitefield H...           No   \n",
       "51693  Chime - Sheraton Grand Bengaluru Whitefield Ho...           No   \n",
       "51694                       The Nest - The Den Bengaluru           No   \n",
       "\n",
       "      Book_Table    Rate  Votes                    Location  \\\n",
       "0            Yes   4.1/5    775                Banashankari   \n",
       "1             No   4.1/5    787                Banashankari   \n",
       "2             No   3.8/5    918                Banashankari   \n",
       "3             No   3.7/5     88                Banashankari   \n",
       "4             No   3.8/5    166                Basavanagudi   \n",
       "...          ...     ...    ...                         ...   \n",
       "51690         No  3.6 /5     27                  Whitefield   \n",
       "51691         No     NAN      0                  Whitefield   \n",
       "51692         No     NAN      0                  Whitefield   \n",
       "51693        Yes  4.3 /5    236  ITPL Main Road, Whitefield   \n",
       "51694         No  3.4 /5     13  ITPL Main Road, Whitefield   \n",
       "\n",
       "           Restuarant_type                                         Dish_liked  \\\n",
       "0            Casual Dining  Pasta, Lunch Buffet, Masala Papad, Paneer Laja...   \n",
       "1            Casual Dining  Momos, Lunch Buffet, Chocolate Nirvana, Thai G...   \n",
       "2      Cafe, Casual Dining  Churros, Cannelloni, Minestrone Soup, Hot Choc...   \n",
       "3              Quick Bites                                        Masala Dosa   \n",
       "4            Casual Dining                                Panipuri, Gol Gappe   \n",
       "...                    ...                                                ...   \n",
       "51690                  Bar                                                NAN   \n",
       "51691                  Bar                                                NAN   \n",
       "51692                  Bar                                                NAN   \n",
       "51693                  Bar                       Cocktails, Pizza, Buttermilk   \n",
       "51694   Bar, Casual Dining                                                NAN   \n",
       "\n",
       "                                     Cuisines  approx_cost(for two people)  \\\n",
       "0              North Indian, Mughlai, Chinese                          800   \n",
       "1                 Chinese, North Indian, Thai                          800   \n",
       "2                      Cafe, Mexican, Italian                          800   \n",
       "3                  South Indian, North Indian                          300   \n",
       "4                    North Indian, Rajasthani                          600   \n",
       "...                                       ...                          ...   \n",
       "51690                             Continental                         1500   \n",
       "51691                             Finger Food                          600   \n",
       "51692                             Finger Food                         2000   \n",
       "51693                             Finger Food                         2500   \n",
       "51694  Finger Food, North Indian, Continental                         1500   \n",
       "\n",
       "      menu_item       Category listed_in(city)  \\\n",
       "0            []         Buffet    Banashankari   \n",
       "1            []         Buffet    Banashankari   \n",
       "2            []         Buffet    Banashankari   \n",
       "3            []         Buffet    Banashankari   \n",
       "4            []         Buffet    Banashankari   \n",
       "...         ...            ...             ...   \n",
       "51690        []  Pubs and bars      Whitefield   \n",
       "51691        []  Pubs and bars      Whitefield   \n",
       "51692        []  Pubs and bars      Whitefield   \n",
       "51693        []  Pubs and bars      Whitefield   \n",
       "51694        []  Pubs and bars      Whitefield   \n",
       "\n",
       "                                            reviews_list  \n",
       "0      [('Rated 4.0', 'RATED\\n  A beautiful place to ...  \n",
       "1      [('Rated 4.0', 'RATED\\n  Had been here for din...  \n",
       "2      [('Rated 3.0', \"RATED\\n  Ambience is not that ...  \n",
       "3      [('Rated 4.0', \"RATED\\n  Great food and proper...  \n",
       "4      [('Rated 4.0', 'RATED\\n  Very good restaurant ...  \n",
       "...                                                  ...  \n",
       "51690  [('Rated 5.0', \"RATED\\n  Food and service are ...  \n",
       "51691                                                 []  \n",
       "51692                                                 []  \n",
       "51693  [('Rated 4.0', 'RATED\\n  Nice and friendly pla...  \n",
       "51694  [('Rated 5.0', 'RATED\\n  Great ambience , look...  \n",
       "\n",
       "[51695 rows x 14 columns]"
      ]
     },
     "execution_count": 68,
     "metadata": {},
     "output_type": "execute_result"
    }
   ],
   "source": [
    "df=pd.read_excel(\"Zomato.xlsx\")\n",
    "zomato=pd.DataFrame(df)\n",
    "zomato"
   ]
  },
  {
   "cell_type": "markdown",
   "id": "62581997",
   "metadata": {},
   "source": [
    "#### 2. Look at some information about the data and the columns"
   ]
  },
  {
   "cell_type": "code",
   "execution_count": 69,
   "id": "f921643c",
   "metadata": {},
   "outputs": [
    {
     "data": {
      "text/plain": [
       "Index(['Name', 'Online_Order', 'Book_Table', 'Rate', 'Votes', 'Location',\n",
       "       'Restuarant_type', 'Dish_liked', 'Cuisines',\n",
       "       'approx_cost(for two people)', 'menu_item', 'Category',\n",
       "       'listed_in(city)', 'reviews_list'],\n",
       "      dtype='object')"
      ]
     },
     "execution_count": 69,
     "metadata": {},
     "output_type": "execute_result"
    }
   ],
   "source": [
    "df.columns"
   ]
  },
  {
   "cell_type": "code",
   "execution_count": 70,
   "id": "10b26bb8",
   "metadata": {},
   "outputs": [
    {
     "data": {
      "text/plain": [
       "14"
      ]
     },
     "execution_count": 70,
     "metadata": {},
     "output_type": "execute_result"
    }
   ],
   "source": [
    "len(df.columns)"
   ]
  },
  {
   "cell_type": "code",
   "execution_count": 71,
   "id": "866dd633",
   "metadata": {},
   "outputs": [
    {
     "data": {
      "text/plain": [
       "Index(['Name', 'Online_Order', 'Book_Table', 'Rate', 'Votes', 'Location',\n",
       "       'Restuarant_type', 'Dish_liked', 'Cuisines', 'Approx_cost_for_2_people',\n",
       "       'menu_item', 'Category', 'listed_in(city)', 'reviews_list'],\n",
       "      dtype='object')"
      ]
     },
     "execution_count": 71,
     "metadata": {},
     "output_type": "execute_result"
    }
   ],
   "source": [
    "zomato.rename(columns={\"approx_cost(for two people)\":\"Approx_cost_for_2_people\"},inplace=True)\n",
    "zomato.columns"
   ]
  },
  {
   "cell_type": "code",
   "execution_count": 72,
   "id": "967633b8",
   "metadata": {},
   "outputs": [
    {
     "name": "stdout",
     "output_type": "stream",
     "text": [
      "<class 'pandas.core.frame.DataFrame'>\n",
      "RangeIndex: 51695 entries, 0 to 51694\n",
      "Data columns (total 14 columns):\n",
      " #   Column                    Non-Null Count  Dtype \n",
      "---  ------                    --------------  ----- \n",
      " 0   Name                      51695 non-null  object\n",
      " 1   Online_Order              51695 non-null  object\n",
      " 2   Book_Table                51695 non-null  object\n",
      " 3   Rate                      51695 non-null  object\n",
      " 4   Votes                     51695 non-null  int64 \n",
      " 5   Location                  51695 non-null  object\n",
      " 6   Restuarant_type           51695 non-null  object\n",
      " 7   Dish_liked                51695 non-null  object\n",
      " 8   Cuisines                  51695 non-null  object\n",
      " 9   Approx_cost_for_2_people  51695 non-null  int64 \n",
      " 10  menu_item                 51695 non-null  object\n",
      " 11  Category                  51695 non-null  object\n",
      " 12  listed_in(city)           51695 non-null  object\n",
      " 13  reviews_list              51695 non-null  object\n",
      "dtypes: int64(2), object(12)\n",
      "memory usage: 5.5+ MB\n"
     ]
    }
   ],
   "source": [
    "zomato.info()"
   ]
  },
  {
   "cell_type": "markdown",
   "id": "e772f189",
   "metadata": {},
   "source": [
    "#### pandas dataframe numerical column statistics"
   ]
  },
  {
   "cell_type": "code",
   "execution_count": 8,
   "id": "cf86cfc0",
   "metadata": {},
   "outputs": [],
   "source": [
    "# zomato.describe()"
   ]
  },
  {
   "cell_type": "markdown",
   "id": "7736cece",
   "metadata": {},
   "source": [
    "### 3. fix any missing or incorrect values"
   ]
  },
  {
   "cell_type": "markdown",
   "id": "7e6d4b51",
   "metadata": {},
   "source": [
    "#### find missing values in the dataset"
   ]
  },
  {
   "cell_type": "code",
   "execution_count": 73,
   "id": "2b81710d",
   "metadata": {},
   "outputs": [
    {
     "data": {
      "text/plain": [
       "Name                        0\n",
       "Online_Order                0\n",
       "Book_Table                  0\n",
       "Rate                        0\n",
       "Votes                       0\n",
       "Location                    0\n",
       "Restuarant_type             0\n",
       "Dish_liked                  0\n",
       "Cuisines                    0\n",
       "Approx_cost_for_2_people    0\n",
       "menu_item                   0\n",
       "Category                    0\n",
       "listed_in(city)             0\n",
       "reviews_list                0\n",
       "dtype: int64"
      ]
     },
     "execution_count": 73,
     "metadata": {},
     "output_type": "execute_result"
    }
   ],
   "source": [
    "zomato.isna().sum().sort_values(ascending= False)"
   ]
  },
  {
   "cell_type": "markdown",
   "id": "49240cee",
   "metadata": {},
   "source": [
    "#### missing values in percentage"
   ]
  },
  {
   "cell_type": "code",
   "execution_count": 63,
   "id": "5b3dd223",
   "metadata": {},
   "outputs": [],
   "source": [
    "# missing_percentagevalues=zomato.isna().sum().sort_values(ascending= False)/len(zomato)*100\n",
    "# missing_percentagevalues"
   ]
  },
  {
   "cell_type": "markdown",
   "id": "832d2bf1",
   "metadata": {},
   "source": [
    "# Step 3"
   ]
  },
  {
   "cell_type": "markdown",
   "id": "1d7e8079",
   "metadata": {},
   "source": [
    "### Exploratory analysis and visualization using matplotlib\n",
    "#### Columns that i will be analyzing\n",
    "##### 1. Online_ordering\n",
    "##### 2 .Location\n",
    "##### 3. approx_cost\n",
    "##### 4. votes\n",
    "##### 5. Rate\n",
    "##### 6. approx_cost"
   ]
  },
  {
   "cell_type": "markdown",
   "id": "281c0997",
   "metadata": {},
   "source": [
    "### 1. Wheather people of bangalore prefer online ordering or dine-in?|"
   ]
  },
  {
   "cell_type": "markdown",
   "id": "b395f140",
   "metadata": {},
   "source": [
    "### 2. If they prefer online ordering then what percentage of people prefer online ordering food?"
   ]
  },
  {
   "cell_type": "code",
   "execution_count": 74,
   "id": "8b45774e",
   "metadata": {},
   "outputs": [
    {
     "data": {
      "text/plain": [
       "58.88964116452268"
      ]
     },
     "execution_count": 74,
     "metadata": {},
     "output_type": "execute_result"
    }
   ],
   "source": [
    "weather_people_order_online=zomato.Online_Order[zomato.Online_Order == \"Yes\"]\n",
    "people_prefer_online_ordering= weather_people_order_online.count()\n",
    "people_prefer_online_ordering\n",
    "people_prefer=(people_prefer_online_ordering/len(zomato.Online_Order))*100\n",
    "people_prefer"
   ]
  },
  {
   "cell_type": "code",
   "execution_count": 75,
   "id": "10c438bd",
   "metadata": {},
   "outputs": [
    {
     "data": {
      "text/plain": [
       "41.11035883547732"
      ]
     },
     "execution_count": 75,
     "metadata": {},
     "output_type": "execute_result"
    }
   ],
   "source": [
    "weather_people_order_online=zomato.Online_Order[zomato.Online_Order == \"No\"]\n",
    "people_dont_prefer_online_ordering= weather_people_order_online.count()\n",
    "people_dont_prefer=(people_dont_prefer_online_ordering/len(zomato.Online_Order))*100\n",
    "people_dont_prefer"
   ]
  },
  {
   "cell_type": "code",
   "execution_count": 76,
   "id": "c6d502b7",
   "metadata": {},
   "outputs": [
    {
     "data": {
      "image/png": "[encoded data removed]",
      "text/plain": [
       "<Figure size 432x288 with 1 Axes>"
      ]
     },
     "metadata": {},
     "output_type": "display_data"
    }
   ],
   "source": [
    "plt.pie([people_prefer,people_dont_prefer],labels=[\"ordering_online_food\",\"not_ordering_online_food\"],autopct=\"%.2f\");"
   ]
  },
  {
   "cell_type": "markdown",
   "id": "0670ea27",
   "metadata": {},
   "source": [
    "###  Majority Bangaloreans prefer Online Ordering Food\n",
    "\n",
    "\n",
    "### 58.89%  people of Bangalore prefer online ordering and 41.11 % don't prefer online ordering of food( maybe they like dine-in)"
   ]
  },
  {
   "cell_type": "code",
   "execution_count": 77,
   "id": "1b955555",
   "metadata": {},
   "outputs": [
    {
     "data": {
      "text/plain": [
       "array(['Banashankari', 'Basavanagudi', 'Mysore Road', 'Jayanagar',\n",
       "       'Kumaraswamy Layout', 'Rajarajeshwari Nagar', 'Vijay Nagar',\n",
       "       'Uttarahalli', 'JP Nagar', 'South Bangalore', 'City Market',\n",
       "       'Nagarbhavi', 'Bannerghatta Road', 'BTM', 'Kanakapura Road',\n",
       "       'Bommanahalli', 'CV Raman Nagar', 'Electronic City', 'HSR',\n",
       "       'Marathahalli', 'Sarjapur Road', 'Wilson Garden', 'Shanti Nagar',\n",
       "       'Koramangala 5th Block', 'Koramangala 8th Block', 'Richmond Road',\n",
       "       'Koramangala 7th Block', 'Jalahalli', 'Koramangala 4th Block',\n",
       "       'Bellandur', 'Whitefield', 'East Bangalore', 'Old Airport Road',\n",
       "       'Indiranagar', 'Koramangala 1st Block', 'Frazer Town', 'RT Nagar',\n",
       "       'MG Road', 'Brigade Road', 'Lavelle Road', 'Church Street',\n",
       "       'Ulsoor', 'Residency Road', 'Shivajinagar', 'Infantry Road',\n",
       "       'St. Marks Road', 'Cunningham Road', 'Race Course Road',\n",
       "       'Commercial Street', 'Vasanth Nagar', 'HBR Layout', 'Domlur',\n",
       "       'Ejipura', 'Jeevan Bhima Nagar', 'Old Madras Road', 'Malleshwaram',\n",
       "       'Seshadripuram', 'Kammanahalli', 'Koramangala 6th Block',\n",
       "       'Majestic', 'Langford Town', 'Central Bangalore', 'Sanjay Nagar',\n",
       "       'Brookefield', 'ITPL Main Road, Whitefield',\n",
       "       'Varthur Main Road, Whitefield', 'KR Puram',\n",
       "       'Koramangala 2nd Block', 'Koramangala 3rd Block', 'Koramangala',\n",
       "       'Hosur Road', 'Rajajinagar', 'Banaswadi', 'North Bangalore',\n",
       "       'Nagawara', 'Hennur', 'Kalyan Nagar', 'New BEL Road', 'Jakkur',\n",
       "       'Rammurthy Nagar', 'Thippasandra', 'Kaggadasapura', 'Hebbal',\n",
       "       'Kengeri', 'Sankey Road', 'Sadashiv Nagar', 'Basaveshwara Nagar',\n",
       "       'Yeshwantpur', 'West Bangalore', 'Magadi Road', 'Yelahanka',\n",
       "       'Sahakara Nagar', 'Peenya'], dtype=object)"
      ]
     },
     "execution_count": 77,
     "metadata": {},
     "output_type": "execute_result"
    }
   ],
   "source": [
    "zomato.Location.unique()"
   ]
  },
  {
   "cell_type": "code",
   "execution_count": 78,
   "id": "d60e4fa8",
   "metadata": {},
   "outputs": [
    {
     "data": {
      "text/plain": [
       "93"
      ]
     },
     "execution_count": 78,
     "metadata": {},
     "output_type": "execute_result"
    }
   ],
   "source": [
    "total_no_unique_locations=zomato.Location.unique()\n",
    "len(total_no_unique_locations)"
   ]
  },
  {
   "cell_type": "markdown",
   "id": "2a90a0c7",
   "metadata": {},
   "source": [
    "### 3. Which are the top 5 locations that has more number of restuarants in bangalore city?"
   ]
  },
  {
   "cell_type": "code",
   "execution_count": 79,
   "id": "99151a51",
   "metadata": {},
   "outputs": [
    {
     "data": {
      "text/plain": [
       "BTM                      5124\n",
       "HSR                      2523\n",
       "Koramangala 5th Block    2504\n",
       "JP Nagar                 2235\n",
       "Whitefield               2144\n",
       "Name: Location, dtype: int64"
      ]
     },
     "execution_count": 79,
     "metadata": {},
     "output_type": "execute_result"
    }
   ],
   "source": [
    "number_of_restuarants_in_locations=zomato.Location.value_counts().sort_values(ascending= False)\n",
    "top_location=number_of_restuarants_in_locations[:5]\n",
    "top_location"
   ]
  },
  {
   "cell_type": "code",
   "execution_count": 80,
   "id": "7fbd3c55",
   "metadata": {},
   "outputs": [],
   "source": [
    "top1=zomato.Location[zomato.Location == \"BTM\"]\n",
    "top2=zomato.Location[zomato.Location== \"HSR\"]\n",
    "top3=zomato.Location[zomato.Location == \"Koramangala 5th Block\"]\n",
    "top4=zomato.Location[zomato.Location== \"JP Nagar\"]\n",
    "top5=zomato.Location[zomato.Location == \"Whitefield\"]"
   ]
  },
  {
   "cell_type": "code",
   "execution_count": 81,
   "id": "b2c4e690",
   "metadata": {},
   "outputs": [],
   "source": [
    "top5_locations={\n",
    "    \"BTM\":top1.count(),\n",
    "    \"HSR\":top2.count(),\n",
    "    \"Koramangala5thBlock\":top3.count(),\n",
    "    \"JPNagar\":top4.count(),\n",
    "    \"Whitefield\":top5.count(),\n",
    "}"
   ]
  },
  {
   "cell_type": "code",
   "execution_count": 82,
   "id": "f140e9e5",
   "metadata": {},
   "outputs": [
    {
     "data": {
      "text/plain": [
       "<BarContainer object of 5 artists>"
      ]
     },
     "execution_count": 82,
     "metadata": {},
     "output_type": "execute_result"
    },
    {
     "data": {
      "image/png": "[encoded data removed]",
      "text/plain": [
       "<Figure size 432x288 with 1 Axes>"
      ]
     },
     "metadata": {
      "needs_background": "light"
     },
     "output_type": "display_data"
    }
   ],
   "source": [
    "from matplotlib import pyplot as plt\n",
    "plt.barh(list(top5_locations.keys()),list(top5_locations.values()))"
   ]
  },
  {
   "cell_type": "markdown",
   "id": "166607ca",
   "metadata": {},
   "source": [
    "### 4. Which are the top 5 locations that has least number of restuarants in bangalore city?\n"
   ]
  },
  {
   "cell_type": "code",
   "execution_count": 83,
   "id": "6d126bc1",
   "metadata": {},
   "outputs": [
    {
     "data": {
      "text/plain": [
       "Peenya                  1\n",
       "Rajarajeshwari Nagar    2\n",
       "Jakkur                  3\n",
       "West Bangalore          6\n",
       "Yelahanka               6\n",
       "Name: Location, dtype: int64"
      ]
     },
     "execution_count": 83,
     "metadata": {},
     "output_type": "execute_result"
    }
   ],
   "source": [
    "number_of_resturants_in_locations=zomato.Location.value_counts().sort_values(ascending= True)\n",
    "least_location=number_of_resturants_in_locations[:5]\n",
    "least_location"
   ]
  },
  {
   "cell_type": "code",
   "execution_count": 84,
   "id": "d5affe2e",
   "metadata": {},
   "outputs": [],
   "source": [
    "least1=zomato.Location[zomato.Location == \"Peenya\"]\n",
    "least2=zomato.Location[zomato.Location== \"Rajarajeshwari Nagar\"]\n",
    "least3=zomato.Location[zomato.Location == \"Jakkur\"]\n",
    "least4=zomato.Location[zomato.Location== \"West Bangalore\"]\n",
    "least5=zomato.Location[zomato.Location == \"Yelahanka\"]"
   ]
  },
  {
   "cell_type": "code",
   "execution_count": 85,
   "id": "0dc255a3",
   "metadata": {},
   "outputs": [],
   "source": [
    "least5_locations={\n",
    "    \"Peenya\":least1.count(),\n",
    "    \"Rajarajeshwari Nagar\":least2.count(),\n",
    "    \"Jakkur\":least3.count(),\n",
    "    \"West Bangalore\":least4.count(),\n",
    "    \"Yelahanka\":least5.count(),\n",
    "}"
   ]
  },
  {
   "cell_type": "code",
   "execution_count": 86,
   "id": "7e372dd2",
   "metadata": {},
   "outputs": [
    {
     "data": {
      "text/plain": [
       "<BarContainer object of 5 artists>"
      ]
     },
     "execution_count": 86,
     "metadata": {},
     "output_type": "execute_result"
    },
    {
     "data": {
      "image/png": "[encoded data removed]",
      "text/plain": [
       "<Figure size 432x288 with 1 Axes>"
      ]
     },
     "metadata": {
      "needs_background": "light"
     },
     "output_type": "display_data"
    }
   ],
   "source": [
    "plt.barh(list(least5_locations.keys()),list(least5_locations.values()))"
   ]
  },
  {
   "cell_type": "markdown",
   "id": "bef5b3f0",
   "metadata": {},
   "source": [
    "### 3. Which location has what type of resturants more?"
   ]
  },
  {
   "cell_type": "markdown",
   "id": "02a6e0ea",
   "metadata": {},
   "source": [
    "### 4.Top 5 expensive restuarants of bangalore ?"
   ]
  },
  {
   "cell_type": "code",
   "execution_count": 141,
   "id": "547e6477",
   "metadata": {},
   "outputs": [],
   "source": [
    "# df1=zomato.Approx_cost_for_2_people.sort_values\n",
    "# # df1"
   ]
  },
  {
   "cell_type": "code",
   "execution_count": 87,
   "id": "43a64223",
   "metadata": {},
   "outputs": [
    {
     "data": {
      "text/plain": [
       "array([6000, 5000, 4500, 4100, 4000], dtype=int64)"
      ]
     },
     "execution_count": 87,
     "metadata": {},
     "output_type": "execute_result"
    }
   ],
   "source": [
    "price_restuarant=zomato.Approx_cost_for_2_people.sort_values(ascending=False)\n",
    "price_restuarant=price_restuarant[:20]\n",
    "price_restuarant.unique()[:5]"
   ]
  },
  {
   "cell_type": "code",
   "execution_count": 88,
   "id": "1b9afe23",
   "metadata": {},
   "outputs": [
    {
     "data": {
      "text/plain": [
       "array(['Le Cirque Signature - The Leela Palace',\n",
       "       'Royal Afghan - ITC Windsor', 'Malties - Radisson Blu',\n",
       "       'La Brasserie - Le Meridien', 'Masala Klub - The Taj West End'],\n",
       "      dtype=object)"
      ]
     },
     "execution_count": 88,
     "metadata": {},
     "output_type": "execute_result"
    }
   ],
   "source": [
    "row_id=list(price_restuarant.index)\n",
    "restuarant_names=zomato.iloc[row_id].Name\n",
    "restuarant_names=restuarant_names.unique()[:5]\n",
    "restuarant_names"
   ]
  },
  {
   "cell_type": "code",
   "execution_count": 89,
   "id": "39cba8eb",
   "metadata": {},
   "outputs": [
    {
     "data": {
      "text/plain": [
       "array(['Old Airport Road', 'Sankey Road', 'Marathahalli',\n",
       "       'Race Course Road', 'Lavelle Road'], dtype=object)"
      ]
     },
     "execution_count": 89,
     "metadata": {},
     "output_type": "execute_result"
    }
   ],
   "source": [
    "restuarant_location=zomato.iloc[row_id].Location\n",
    "restuarant_location=restuarant_location.unique()[:5]\n",
    "restuarant_location"
   ]
  },
  {
   "cell_type": "markdown",
   "id": "cde2d552",
   "metadata": {},
   "source": [
    "### Top 5 expensive restuarants of bangalore are following:"
   ]
  },
  {
   "cell_type": "code",
   "execution_count": 90,
   "id": "e87f0a05",
   "metadata": {},
   "outputs": [
    {
     "data": {
      "text/html": [
       "<div>\n",
       "<style scoped>\n",
       "    .dataframe tbody tr th:only-of-type {\n",
       "        vertical-align: middle;\n",
       "    }\n",
       "\n",
       "    .dataframe tbody tr th {\n",
       "        vertical-align: top;\n",
       "    }\n",
       "\n",
       "    .dataframe thead th {\n",
       "        text-align: right;\n",
       "    }\n",
       "</style>\n",
       "<table border=\"1\" class=\"dataframe\">\n",
       "  <thead>\n",
       "    <tr style=\"text-align: right;\">\n",
       "      <th></th>\n",
       "      <th>Restuarant_Name</th>\n",
       "      <th>location</th>\n",
       "      <th>Approx_cost_for_2_people</th>\n",
       "    </tr>\n",
       "  </thead>\n",
       "  <tbody>\n",
       "    <tr>\n",
       "      <th>0</th>\n",
       "      <td>Le Cirque Signature - The Leela Palace</td>\n",
       "      <td>Old Airport Road</td>\n",
       "      <td>6000</td>\n",
       "    </tr>\n",
       "    <tr>\n",
       "      <th>1</th>\n",
       "      <td>Royal Afghan - ITC Windsor</td>\n",
       "      <td>Sankey Road</td>\n",
       "      <td>5000</td>\n",
       "    </tr>\n",
       "    <tr>\n",
       "      <th>2</th>\n",
       "      <td>Malties - Radisson Blu</td>\n",
       "      <td>Marathahalli</td>\n",
       "      <td>4500</td>\n",
       "    </tr>\n",
       "    <tr>\n",
       "      <th>3</th>\n",
       "      <td>La Brasserie - Le Meridien</td>\n",
       "      <td>Race Course Road</td>\n",
       "      <td>4100</td>\n",
       "    </tr>\n",
       "    <tr>\n",
       "      <th>4</th>\n",
       "      <td>Masala Klub - The Taj West End</td>\n",
       "      <td>Lavelle Road</td>\n",
       "      <td>4000</td>\n",
       "    </tr>\n",
       "  </tbody>\n",
       "</table>\n",
       "</div>"
      ],
      "text/plain": [
       "                          Restuarant_Name          location  \\\n",
       "0  Le Cirque Signature - The Leela Palace  Old Airport Road   \n",
       "1              Royal Afghan - ITC Windsor       Sankey Road   \n",
       "2                  Malties - Radisson Blu      Marathahalli   \n",
       "3              La Brasserie - Le Meridien  Race Course Road   \n",
       "4          Masala Klub - The Taj West End      Lavelle Road   \n",
       "\n",
       "   Approx_cost_for_2_people  \n",
       "0                      6000  \n",
       "1                      5000  \n",
       "2                      4500  \n",
       "3                      4100  \n",
       "4                      4000  "
      ]
     },
     "execution_count": 90,
     "metadata": {},
     "output_type": "execute_result"
    }
   ],
   "source": [
    "df1=pd.DataFrame()\n",
    "df1[\"Restuarant_Name\"]=restuarant_names\n",
    "df1[\"location\"]=restuarant_location\n",
    "df1[\"Approx_cost_for_2_people\"]=price_restuarant.unique()[:5]\n",
    "df1"
   ]
  },
  {
   "cell_type": "markdown",
   "id": "359796b1",
   "metadata": {},
   "source": [
    "### Top Restuarants and corresponding prices :"
   ]
  },
  {
   "cell_type": "code",
   "execution_count": 91,
   "id": "a9288c86",
   "metadata": {},
   "outputs": [
    {
     "data": {
      "text/plain": [
       "<BarContainer object of 5 artists>"
      ]
     },
     "execution_count": 91,
     "metadata": {},
     "output_type": "execute_result"
    },
    {
     "data": {
      "image/png": "[encoded data removed]",
      "text/plain": [
       "<Figure size 432x288 with 1 Axes>"
      ]
     },
     "metadata": {
      "needs_background": "light"
     },
     "output_type": "display_data"
    }
   ],
   "source": [
    "plt.barh(restuarant_names,price_restuarant.unique()[:5])"
   ]
  },
  {
   "cell_type": "markdown",
   "id": "30c85723",
   "metadata": {},
   "source": [
    "### 5. Top expensive locations and corresponding prices for two people in those restuarants:"
   ]
  },
  {
   "cell_type": "code",
   "execution_count": 92,
   "id": "9435151c",
   "metadata": {},
   "outputs": [
    {
     "data": {
      "text/plain": [
       "<BarContainer object of 5 artists>"
      ]
     },
     "execution_count": 92,
     "metadata": {},
     "output_type": "execute_result"
    },
    {
     "data": {
      "image/png": "[encoded data removed]",
      "text/plain": [
       "<Figure size 432x288 with 1 Axes>"
      ]
     },
     "metadata": {
      "needs_background": "light"
     },
     "output_type": "display_data"
    }
   ],
   "source": [
    "plt.barh(restuarant_location,price_restuarant.unique()[:5])"
   ]
  },
  {
   "cell_type": "code",
   "execution_count": 93,
   "id": "0106ae13",
   "metadata": {},
   "outputs": [
    {
     "data": {
      "text/plain": [
       "50037    16832\n",
       "49605    16832\n",
       "49148    16832\n",
       "4943     16345\n",
       "3920     16345\n",
       "4800     16345\n",
       "19263    14956\n",
       "18638    14956\n",
       "36653    14726\n",
       "35985    14723\n",
       "33899    14723\n",
       "34764    14723\n",
       "32139    14717\n",
       "33299    14717\n",
       "31044    14710\n",
       "29293    14710\n",
       "29404    14710\n",
       "28376    14704\n",
       "27798    14694\n",
       "26542    14690\n",
       "9805     14654\n",
       "8328     14654\n",
       "10857    14654\n",
       "41508    12121\n",
       "40490    12121\n",
       "37591    10550\n",
       "36652    10547\n",
       "34710    10541\n",
       "33898    10541\n",
       "32091    10530\n",
       "32027    10530\n",
       "29256    10512\n",
       "31043    10512\n",
       "28375    10503\n",
       "26482    10471\n",
       "11494    10422\n",
       "10858    10413\n",
       "8266     10413\n",
       "45591     9300\n",
       "46077     9300\n",
       "46033     9300\n",
       "44694     9272\n",
       "36409     9085\n",
       "36675     9085\n",
       "33924     9084\n",
       "34767     9084\n",
       "34723     9084\n",
       "34943     9084\n",
       "32314     9080\n",
       "32142     9080\n",
       "Name: Votes, dtype: int64"
      ]
     },
     "execution_count": 93,
     "metadata": {},
     "output_type": "execute_result"
    }
   ],
   "source": [
    "zomato.Votes.sort_values(ascending=False)[:50]"
   ]
  },
  {
   "cell_type": "code",
   "execution_count": 94,
   "id": "e4ea477b",
   "metadata": {},
   "outputs": [
    {
     "data": {
      "text/plain": [
       "[50037,\n",
       " 49605,\n",
       " 49148,\n",
       " 4943,\n",
       " 3920,\n",
       " 4800,\n",
       " 19263,\n",
       " 18638,\n",
       " 36653,\n",
       " 35985,\n",
       " 33899,\n",
       " 34764,\n",
       " 32139,\n",
       " 33299,\n",
       " 31044,\n",
       " 29293,\n",
       " 29404,\n",
       " 28376,\n",
       " 27798,\n",
       " 26542,\n",
       " 9805,\n",
       " 8328,\n",
       " 10857,\n",
       " 41508,\n",
       " 40490,\n",
       " 37591,\n",
       " 36652,\n",
       " 34710,\n",
       " 33898,\n",
       " 32091,\n",
       " 32027,\n",
       " 29256,\n",
       " 31043,\n",
       " 28375,\n",
       " 26482,\n",
       " 11494,\n",
       " 10858,\n",
       " 8266,\n",
       " 45591,\n",
       " 46077,\n",
       " 46033,\n",
       " 44694,\n",
       " 36409,\n",
       " 36675,\n",
       " 33924,\n",
       " 34767,\n",
       " 34723,\n",
       " 34943,\n",
       " 32314,\n",
       " 32142]"
      ]
     },
     "execution_count": 94,
     "metadata": {},
     "output_type": "execute_result"
    }
   ],
   "source": [
    "id_row=list(zomato.Votes.sort_values(ascending=False)[:50].index)\n",
    "id_row"
   ]
  },
  {
   "cell_type": "markdown",
   "id": "09f20f5e",
   "metadata": {},
   "source": [
    "### 6. In Bangalore which is the top 5 popular restuarant?"
   ]
  },
  {
   "cell_type": "code",
   "execution_count": 95,
   "id": "62501613",
   "metadata": {},
   "outputs": [
    {
     "data": {
      "text/plain": [
       "array(['Byg Brewski Brewing Company', 'Toit', 'Truffles',\n",
       "       \"AB's - Absolute Barbecues\", 'The Black Pearl'], dtype=object)"
      ]
     },
     "execution_count": 95,
     "metadata": {},
     "output_type": "execute_result"
    }
   ],
   "source": [
    "popular_Restuarants=zomato.iloc[id_row].Name.unique()[:5]\n",
    "popular_Restuarants"
   ]
  },
  {
   "cell_type": "code",
   "execution_count": 96,
   "id": "b506933f",
   "metadata": {},
   "outputs": [
    {
     "data": {
      "text/plain": [
       "array(['Sarjapur Road', 'Indiranagar', 'Koramangala 5th Block',\n",
       "       'Marathahalli', 'Old Airport Road'], dtype=object)"
      ]
     },
     "execution_count": 96,
     "metadata": {},
     "output_type": "execute_result"
    }
   ],
   "source": [
    "popular_locations=zomato.iloc[id_row].Location.unique()[:5]\n",
    "popular_locations"
   ]
  },
  {
   "cell_type": "markdown",
   "id": "4be20523",
   "metadata": {},
   "source": [
    "### The top Popular restuarant in Bangalore are:"
   ]
  },
  {
   "cell_type": "code",
   "execution_count": 97,
   "id": "6596ff3b",
   "metadata": {},
   "outputs": [
    {
     "data": {
      "text/html": [
       "<div>\n",
       "<style scoped>\n",
       "    .dataframe tbody tr th:only-of-type {\n",
       "        vertical-align: middle;\n",
       "    }\n",
       "\n",
       "    .dataframe tbody tr th {\n",
       "        vertical-align: top;\n",
       "    }\n",
       "\n",
       "    .dataframe thead th {\n",
       "        text-align: right;\n",
       "    }\n",
       "</style>\n",
       "<table border=\"1\" class=\"dataframe\">\n",
       "  <thead>\n",
       "    <tr style=\"text-align: right;\">\n",
       "      <th></th>\n",
       "      <th>Popular_Restuarants</th>\n",
       "    </tr>\n",
       "  </thead>\n",
       "  <tbody>\n",
       "    <tr>\n",
       "      <th>0</th>\n",
       "      <td>Byg Brewski Brewing Company</td>\n",
       "    </tr>\n",
       "    <tr>\n",
       "      <th>1</th>\n",
       "      <td>Toit</td>\n",
       "    </tr>\n",
       "    <tr>\n",
       "      <th>2</th>\n",
       "      <td>Truffles</td>\n",
       "    </tr>\n",
       "    <tr>\n",
       "      <th>3</th>\n",
       "      <td>AB's - Absolute Barbecues</td>\n",
       "    </tr>\n",
       "    <tr>\n",
       "      <th>4</th>\n",
       "      <td>The Black Pearl</td>\n",
       "    </tr>\n",
       "  </tbody>\n",
       "</table>\n",
       "</div>"
      ],
      "text/plain": [
       "           Popular_Restuarants\n",
       "0  Byg Brewski Brewing Company\n",
       "1                         Toit\n",
       "2                     Truffles\n",
       "3    AB's - Absolute Barbecues\n",
       "4              The Black Pearl"
      ]
     },
     "execution_count": 97,
     "metadata": {},
     "output_type": "execute_result"
    }
   ],
   "source": [
    "df2=pd.DataFrame()\n",
    "df2[\"Popular_Restuarants\"]=popular_Restuarants\n",
    "df2"
   ]
  },
  {
   "cell_type": "markdown",
   "id": "4f442c96",
   "metadata": {},
   "source": [
    "### The top Popular Location in Bangalore are:"
   ]
  },
  {
   "cell_type": "code",
   "execution_count": 98,
   "id": "034b6e4d",
   "metadata": {},
   "outputs": [
    {
     "data": {
      "text/html": [
       "<div>\n",
       "<style scoped>\n",
       "    .dataframe tbody tr th:only-of-type {\n",
       "        vertical-align: middle;\n",
       "    }\n",
       "\n",
       "    .dataframe tbody tr th {\n",
       "        vertical-align: top;\n",
       "    }\n",
       "\n",
       "    .dataframe thead th {\n",
       "        text-align: right;\n",
       "    }\n",
       "</style>\n",
       "<table border=\"1\" class=\"dataframe\">\n",
       "  <thead>\n",
       "    <tr style=\"text-align: right;\">\n",
       "      <th></th>\n",
       "      <th>Popular_Restuarants</th>\n",
       "      <th>Popular_Locations</th>\n",
       "    </tr>\n",
       "  </thead>\n",
       "  <tbody>\n",
       "    <tr>\n",
       "      <th>0</th>\n",
       "      <td>Byg Brewski Brewing Company</td>\n",
       "      <td>Sarjapur Road</td>\n",
       "    </tr>\n",
       "    <tr>\n",
       "      <th>1</th>\n",
       "      <td>Toit</td>\n",
       "      <td>Indiranagar</td>\n",
       "    </tr>\n",
       "    <tr>\n",
       "      <th>2</th>\n",
       "      <td>Truffles</td>\n",
       "      <td>Koramangala 5th Block</td>\n",
       "    </tr>\n",
       "    <tr>\n",
       "      <th>3</th>\n",
       "      <td>AB's - Absolute Barbecues</td>\n",
       "      <td>Marathahalli</td>\n",
       "    </tr>\n",
       "    <tr>\n",
       "      <th>4</th>\n",
       "      <td>The Black Pearl</td>\n",
       "      <td>Old Airport Road</td>\n",
       "    </tr>\n",
       "  </tbody>\n",
       "</table>\n",
       "</div>"
      ],
      "text/plain": [
       "           Popular_Restuarants      Popular_Locations\n",
       "0  Byg Brewski Brewing Company          Sarjapur Road\n",
       "1                         Toit            Indiranagar\n",
       "2                     Truffles  Koramangala 5th Block\n",
       "3    AB's - Absolute Barbecues           Marathahalli\n",
       "4              The Black Pearl       Old Airport Road"
      ]
     },
     "execution_count": 98,
     "metadata": {},
     "output_type": "execute_result"
    }
   ],
   "source": [
    "df2[\"Popular_Locations\"]=popular_locations\n",
    "df2"
   ]
  },
  {
   "cell_type": "markdown",
   "id": "53f77d2e",
   "metadata": {},
   "source": [
    "### Type of restuarants in popular locations? "
   ]
  },
  {
   "cell_type": "code",
   "execution_count": 108,
   "id": "3eec657b",
   "metadata": {},
   "outputs": [
    {
     "data": {
      "text/plain": [
       "array(['Byg Brewski Brewing Company', 'Toit', 'Truffles',\n",
       "       \"AB's - Absolute Barbecues\", 'The Black Pearl'], dtype=object)"
      ]
     },
     "execution_count": 108,
     "metadata": {},
     "output_type": "execute_result"
    }
   ],
   "source": [
    "popular_Restuarants"
   ]
  },
  {
   "cell_type": "code",
   "execution_count": 109,
   "id": "5e2222f8",
   "metadata": {},
   "outputs": [
    {
     "data": {
      "text/plain": [
       "array(['Pub & Bar', 'Drinks & nightlife', 'Cafes', 'Buffet',\n",
       "       'Dine-in, Buffet'], dtype=object)"
      ]
     },
     "execution_count": 109,
     "metadata": {},
     "output_type": "execute_result"
    }
   ],
   "source": [
    "popular_Restuarants_Category=zomato.iloc[id_row].Category.unique()[:5]\n",
    "popular_Restuarants_Category"
   ]
  },
  {
   "cell_type": "markdown",
   "id": "24c724f9",
   "metadata": {},
   "source": [
    "### Types of restuarants are:"
   ]
  },
  {
   "cell_type": "code",
   "execution_count": 114,
   "id": "5adff35d",
   "metadata": {},
   "outputs": [
    {
     "data": {
      "text/html": [
       "<div>\n",
       "<style scoped>\n",
       "    .dataframe tbody tr th:only-of-type {\n",
       "        vertical-align: middle;\n",
       "    }\n",
       "\n",
       "    .dataframe tbody tr th {\n",
       "        vertical-align: top;\n",
       "    }\n",
       "\n",
       "    .dataframe thead th {\n",
       "        text-align: right;\n",
       "    }\n",
       "</style>\n",
       "<table border=\"1\" class=\"dataframe\">\n",
       "  <thead>\n",
       "    <tr style=\"text-align: right;\">\n",
       "      <th></th>\n",
       "      <th>Popular_Restuarant</th>\n",
       "      <th>Popular_Restuarant_Location</th>\n",
       "      <th>Popular_Restuarant_Type</th>\n",
       "    </tr>\n",
       "  </thead>\n",
       "  <tbody>\n",
       "    <tr>\n",
       "      <th>0</th>\n",
       "      <td>Byg Brewski Brewing Company</td>\n",
       "      <td>Sarjapur Road</td>\n",
       "      <td>Pub &amp; Bar</td>\n",
       "    </tr>\n",
       "    <tr>\n",
       "      <th>1</th>\n",
       "      <td>Toit</td>\n",
       "      <td>Indiranagar</td>\n",
       "      <td>Drinks &amp; nightlife</td>\n",
       "    </tr>\n",
       "    <tr>\n",
       "      <th>2</th>\n",
       "      <td>Truffles</td>\n",
       "      <td>Koramangala 5th Block</td>\n",
       "      <td>Cafes</td>\n",
       "    </tr>\n",
       "    <tr>\n",
       "      <th>3</th>\n",
       "      <td>AB's - Absolute Barbecues</td>\n",
       "      <td>Marathahalli</td>\n",
       "      <td>Buffet</td>\n",
       "    </tr>\n",
       "    <tr>\n",
       "      <th>4</th>\n",
       "      <td>The Black Pearl</td>\n",
       "      <td>Old Airport Road</td>\n",
       "      <td>Dine-in, Buffet</td>\n",
       "    </tr>\n",
       "  </tbody>\n",
       "</table>\n",
       "</div>"
      ],
      "text/plain": [
       "            Popular_Restuarant Popular_Restuarant_Location  \\\n",
       "0  Byg Brewski Brewing Company               Sarjapur Road   \n",
       "1                         Toit                 Indiranagar   \n",
       "2                     Truffles       Koramangala 5th Block   \n",
       "3    AB's - Absolute Barbecues                Marathahalli   \n",
       "4              The Black Pearl            Old Airport Road   \n",
       "\n",
       "  Popular_Restuarant_Type  \n",
       "0               Pub & Bar  \n",
       "1      Drinks & nightlife  \n",
       "2                   Cafes  \n",
       "3                  Buffet  \n",
       "4         Dine-in, Buffet  "
      ]
     },
     "execution_count": 114,
     "metadata": {},
     "output_type": "execute_result"
    }
   ],
   "source": [
    "df3=pd.DataFrame()\n",
    "df3[\"Popular_Restuarant\"]=popular_Restuarants\n",
    "df3[\"Popular_Restuarant_Location\"]=popular_locations\n",
    "df3[\"Popular_Restuarant_Type\"]=popular_Restuarants_Category\n",
    "df3"
   ]
  },
  {
   "cell_type": "code",
   "execution_count": 56,
   "id": "3f9ac2eb",
   "metadata": {},
   "outputs": [],
   "source": [
    "# Different types of category of resturants"
   ]
  },
  {
   "cell_type": "code",
   "execution_count": 99,
   "id": "426ff368",
   "metadata": {
    "scrolled": true
   },
   "outputs": [
    {
     "data": {
      "text/plain": [
       "array(['Buffet', 'Cafes', 'NAN', 'Delivery', 'Desserts', 'Dine-out',\n",
       "       'Drinks & nightlife', 'Dine-in, Buffet', 'Pub & Bar',\n",
       "       'Pubs and bars'], dtype=object)"
      ]
     },
     "execution_count": 99,
     "metadata": {},
     "output_type": "execute_result"
    }
   ],
   "source": [
    "zomato.Category.unique()"
   ]
  },
  {
   "cell_type": "code",
   "execution_count": 100,
   "id": "14a1d7d1",
   "metadata": {},
   "outputs": [
    {
     "data": {
      "text/plain": [
       "1.36183383305929"
      ]
     },
     "execution_count": 100,
     "metadata": {},
     "output_type": "execute_result"
    }
   ],
   "source": [
    "Category1=zomato.Category[zomato.Category==\"Buffet\"]\n",
    "count_Buffet=Category1.count()\n",
    "Buffet=(count_Buffet/len(zomato.Category))*100\n",
    "Buffet"
   ]
  },
  {
   "cell_type": "code",
   "execution_count": 101,
   "id": "6f763d87",
   "metadata": {},
   "outputs": [
    {
     "data": {
      "text/plain": [
       "2.901634587484283"
      ]
     },
     "execution_count": 101,
     "metadata": {},
     "output_type": "execute_result"
    }
   ],
   "source": [
    "Category2=zomato.Category[zomato.Category==\"Cafes\"]\n",
    "count_Cafes=Category2.count()\n",
    "Cafes=(count_Cafes/len(zomato.Category))*100\n",
    "Cafes"
   ]
  },
  {
   "cell_type": "code",
   "execution_count": 102,
   "id": "e09e26f4",
   "metadata": {},
   "outputs": [
    {
     "data": {
      "text/plain": [
       "8.298674920205048"
      ]
     },
     "execution_count": 102,
     "metadata": {},
     "output_type": "execute_result"
    }
   ],
   "source": [
    "Category3=zomato.Category[zomato.Category==\"NAN\"]\n",
    "count_NAN=Category3.count()\n",
    "NAN=(count_NAN/len(zomato.Category))*100\n",
    "NAN"
   ]
  },
  {
   "cell_type": "code",
   "execution_count": 103,
   "id": "d6bba9a5",
   "metadata": {},
   "outputs": [
    {
     "data": {
      "text/plain": [
       "47.01034916336202"
      ]
     },
     "execution_count": 103,
     "metadata": {},
     "output_type": "execute_result"
    }
   ],
   "source": [
    "Category4=zomato.Category[zomato.Category==\"Delivery\"]\n",
    "count_Delivery=Category4.count()\n",
    "Delivery=(count_Delivery/len(zomato.Category))*100\n",
    "Delivery"
   ]
  },
  {
   "cell_type": "code",
   "execution_count": 104,
   "id": "d5e48513",
   "metadata": {},
   "outputs": [
    {
     "data": {
      "text/plain": [
       "6.536415514072928"
      ]
     },
     "execution_count": 104,
     "metadata": {},
     "output_type": "execute_result"
    }
   ],
   "source": [
    "Category5=zomato.Category[zomato.Category==\"Desserts\"]\n",
    "count_Desserts=Category5.count()\n",
    "Desserts=(count_Desserts/len(zomato.Category))*100\n",
    "Desserts"
   ]
  },
  {
   "cell_type": "code",
   "execution_count": 49,
   "id": "8ad0cd2c",
   "metadata": {},
   "outputs": [
    {
     "data": {
      "text/plain": [
       "31.41503046716317"
      ]
     },
     "execution_count": 49,
     "metadata": {},
     "output_type": "execute_result"
    }
   ],
   "source": [
    "Category6=zomato.Category[zomato.Category==\"Dine-out\"]\n",
    "count_Dine_out=Category6.count()\n",
    "Dine_out=(count_Dine_out/len(zomato.Category))*100\n",
    "Dine_out"
   ]
  },
  {
   "cell_type": "code",
   "execution_count": 105,
   "id": "c7eed030",
   "metadata": {},
   "outputs": [
    {
     "data": {
      "text/plain": [
       "1.4546861398587871"
      ]
     },
     "execution_count": 105,
     "metadata": {},
     "output_type": "execute_result"
    }
   ],
   "source": [
    "Category7=zomato.Category[zomato.Category==\"Drinks & nightlife\"]\n",
    "count_Drinks_nightlife=Category7.count()\n",
    "Drinks_nightlife=(count_Drinks_nightlife/len(zomato.Category))*100\n",
    "Drinks_nightlife"
   ]
  },
  {
   "cell_type": "code",
   "execution_count": 106,
   "id": "d29406f5",
   "metadata": {},
   "outputs": [
    {
     "data": {
      "text/plain": [
       "0.9942934519779475"
      ]
     },
     "execution_count": 106,
     "metadata": {},
     "output_type": "execute_result"
    }
   ],
   "source": [
    "Category8=zomato.Category[zomato.Category==\"Pubs and bars\"]\n",
    "count_Pubs_bars=Category8.count()\n",
    "Pubs_and_bars=(count_Pubs_bars/len(zomato.Category))*100\n",
    "Pubs_and_bars"
   ]
  },
  {
   "cell_type": "code",
   "execution_count": 107,
   "id": "56ef6eb4",
   "metadata": {},
   "outputs": [
    {
     "data": {
      "image/png": "[encoded data removed]",
      "text/plain": [
       "<Figure size 432x288 with 1 Axes>"
      ]
     },
     "metadata": {},
     "output_type": "display_data"
    }
   ],
   "source": [
    "plt.pie([Buffet,Cafes,NAN,Delivery,Desserts,Dine_out,Drinks_nightlife,Pubs_and_bars],labels=['Buffet','Cafes','NAN','Delivery','Desserts','Dine_out','Drinks_nightlife','Pubs_and_bars'],autopct=\"%.2f\");"
   ]
  },
  {
   "cell_type": "markdown",
   "id": "c24262a3",
   "metadata": {},
   "source": [
    "# Step 4 (ask and answer session)\n",
    "\n",
    "#### ask and answer about the data in jupter notebook\n",
    "\n",
    "##### 1. How many columns and rows were present in the dataset initally before data cleansing and data wrangling using excel?\n",
    "##### we have 17 columns and 51,717 rows in the dataset\n",
    "\n",
    "##### 1. How many columns and rows from the dataset are consider ?\n",
    "##### we have 14columns and 51695 rows are considered\n",
    "\n",
    "##### 2. how many columns are consider?\n",
    "##### I have considering 13 columns \n",
    "\n",
    "##### 3. how many numeric data is present in the dataset? \n",
    "##### we have 2numeric column\n",
    "\n",
    "\n",
    "###  Online_order\n",
    "#### 1. Wheather people of bangalore prefer online ordering food or dine-in? ✓\n",
    "\n",
    "#### 2. If they prefer online ordering then what percentage of people prefer online ordering food? ✓\n",
    "\n",
    "\n",
    "### Location:\n",
    "#### 1. Which are the top 5 locations that has more number of restuarants in     bangalore city? ✓\n",
    "\n",
    "\n",
    "#### 2. Which are the 5 locations that has least number of resturants in bangalore city? ✓\n",
    "\n",
    "#### 3. Type of resturants in popular locations? \n",
    "\n",
    "### Approx_cost\n",
    "#### Top 5 expensive restuarants of bangalore ?  ✓\n",
    " \n",
    "#### Top expensive locations and corresponding prices for two people in those restuarants?  ✓\n",
    "\n",
    "###  Votes\n",
    "#### 1. In Bangalore which is the top 5 popular restuarant?  ✓\n",
    "\n",
    "#### 2. The top Popular locations where more choose to visit a restuarant?  ✓"
   ]
  },
  {
   "cell_type": "code",
   "execution_count": null,
   "id": "8dfa9342",
   "metadata": {},
   "outputs": [],
   "source": []
  },
  {
   "cell_type": "markdown",
   "id": "fdf52f1c",
   "metadata": {},
   "source": [
    "#  Step 5\n",
    "### Summerize your inference and write a conclusion"
   ]
  },
  {
   "cell_type": "markdown",
   "id": "f2aed606",
   "metadata": {},
   "source": [
    "### 1. BTM has more number of restuarants in the Bangalore City\n",
    "\n",
    "### 2. Peenya has least number of restuarants in the Bangalore City\n",
    "\n",
    "### 3. Around 58.87% people of bangalore prefer online ordering of food\n",
    "\n",
    "### 4. The top 5 expensive restuarants of bangalore are: \n",
    "\n",
    "#### i]Le Cirque Signature - The Leela Palace \n",
    "#### ii]Royal Afghan - ITC Windsor  \n",
    "#### iii]Malties - Radisson Blu \n",
    "#### v]La Brasserie - Le Meridien \n",
    "#### v]Masala Klub - The Taj West End \n",
    "\n",
    "### 5. Top expensive locations and corresponding prices for two people in those restuarants:\n",
    "\n",
    "#### Old Airport Road\n",
    "#### Sankey Road\n",
    "#### Marathahalli \n",
    "####  Race Course Road \n",
    "#### Lavelle Road\n"
   ]
  },
  {
   "cell_type": "markdown",
   "id": "91f2eaea",
   "metadata": {},
   "source": [
    "# Step 6\n",
    "#### Document and publish and present your jupyter notebook"
   ]
  },
  {
   "cell_type": "code",
   "execution_count": null,
   "id": "431cd190",
   "metadata": {},
   "outputs": [],
   "source": []
  }
 ],
 "metadata": {
  "kernelspec": {
   "display_name": "Python 3 (ipykernel)",
   "language": "python",
   "name": "python3"
  },
  "language_info": {
   "codemirror_mode": {
    "name": "ipython",
    "version": 3
   },
   "file_extension": ".py",
   "mimetype": "text/x-python",
   "name": "python",
   "nbconvert_exporter": "python",
   "pygments_lexer": "ipython3",
   "version": "3.8.8"
  }
 },
 "nbformat": 4,
 "nbformat_minor": 5
}
